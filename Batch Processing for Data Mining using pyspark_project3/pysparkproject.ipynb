{
 "cells": [
  {
   "cell_type": "code",
   "execution_count": null,
   "metadata": {},
   "outputs": [],
   "source": [
    "import boto3\n",
    "\n",
    "#initialise s3 client\n",
    "s3 = boto3.client('s3', region_name='eu-west-1')\n",
    "#Download file from S3 bucket\n",
    "bucket = 'blossom-data-engs'\n",
    "s3.download_file(bucket, 'alldata.csv', 'alldata.csv')\n",
    "s3.download_file(bucket, 'companies.csv', 'companies.csv')"
   ]
  },
  {
   "cell_type": "code",
   "execution_count": 9,
   "metadata": {},
   "outputs": [],
   "source": [
    "from pyspark.sql import SparkSession\n",
    "from pyspark.sql import functions as d\n",
    "from pyspark.sql import Window\n",
    "from pyspark import SparkConf \n",
    "from pyspark.context import SparkContext\n",
    "from pyspark.sql.types import BooleanType\n",
    "from pyspark.sql.functions import udf\n",
    "from pyspark.ml.feature import NGram,Tokenizer"
   ]
  },
  {
   "cell_type": "code",
   "execution_count": 10,
   "metadata": {},
   "outputs": [],
   "source": [
    "# create spark session\n",
    "spark = SparkSession.builder.getOrCreate()"
   ]
  },
  {
   "cell_type": "code",
   "execution_count": 11,
   "metadata": {},
   "outputs": [
    {
     "data": {
      "text/plain": [
       "6512"
      ]
     },
     "execution_count": 11,
     "metadata": {},
     "output_type": "execute_result"
    }
   ],
   "source": [
    "companies = spark.read.csv('companies.csv', header=True, inferSchema=True, multiLine=True)\n",
    "companies.count()"
   ]
  },
  {
   "cell_type": "code",
   "execution_count": 12,
   "metadata": {},
   "outputs": [
    {
     "data": {
      "text/plain": [
       "13513"
      ]
     },
     "execution_count": 12,
     "metadata": {},
     "output_type": "execute_result"
    }
   ],
   "source": [
    "alldata = spark.read.csv('alldata.csv', header=True, inferSchema=True, multiLine=True)\n",
    "alldata.count()"
   ]
  },
  {
   "cell_type": "code",
   "execution_count": 13,
   "metadata": {},
   "outputs": [
    {
     "name": "stdout",
     "output_type": "stream",
     "text": [
      "+------+--------------------+--------------------+--------------------+--------------------+--------------------+--------+--------------------+--------------------+------------+------------------+------------------+--------------------+--------------------+\n",
      "|ticker|        company name|          short name|            industry|         description|             website|    logo|                 ceo|            exchange|  market cap|            sector|             tag 1|               tag 2|              tag 3\n",
      "+------+--------------------+--------------------+--------------------+--------------------+--------------------+--------+--------------------+--------------------+------------+------------------+------------------+--------------------+--------------------+\n",
      "|     A|Agilent Technolog...|             Agilent|Medical Diagnosti...|Agilent Technolog...|http://www.agilen...|   A.png| Michael R. McMullen|New York Stock Ex...| 24218068096|        Healthcare|        Healthcare|Diagnostics & Res...|Medical Diagnosti...|\n",
      "|    AA|   Alcoa Corporation|               Alcoa|     Metals & Mining|Alcoa Corp is an ...|http://www.alcoa.com|  AA.png|Roy Christopher H...|New York Stock Ex...|  5374966543|   Basic Materials|   Basic Materials|            Aluminum|    Metals & Mining\n",
      "|  AABA|         Altaba Inc.|              Altaba|    Asset Management|Altaba Inc is an ...|http://www.altaba...|AABA.png| Thomas J. Mcinerney|Nasdaq Global Select| 41223683414|Financial Services|Financial Services|    Asset Management|                   \n",
      "|   AAC|   AAC Holdings Inc.|                 AAC|Health Care Provi...|AAC Holdings Inc ...|http://www.americ...|    null|Michael T. Cartwr...|New York Stock Ex...|    63720099|        Healthcare|        Healthcare|        Medical Care|Health Care Provi...|\n",
      "|  AADR|AdvisorShares Dor...|AdvisorShares Dor...|                null|\"The investment s...|http://www.adviso...|AADR.png|                null|           NYSE Arca|   103161180|              null|              null|                null|                   \n",
      "|   AAL|American Airlines...|   American Airlines|            Airlines|American Airlines...|   http://www.aa.com| AAL.png|   W. Douglas Parker|Nasdaq Global Select| 16940186209|       Industrials|       Industrials|            Airlines|                   \n",
      "|  AAMC|Altisource Asset ...|Altisource Asset ...|    Asset Management|Altisource Asset ...|http://www.altiso...|    null|   George G. Ellison|       NYSE American|    44907363|Financial Services|Financial Services|    Asset Management|                   \n",
      "|  AAME|Atlantic American...|   Atlantic American|    Insurance - Life|Atlantic American...|http://www.atlam.com|    null|    Hilton H. Howell|NASDAQ Global Market|    56558079|Financial Services|Financial Services|    Insurance - Life|                   \n",
      "|   AAN|        Aaron's Inc.|             Aaron's|Consulting & Outs...|Aaron's Inc is a ...|http://www.aarons...| AAN.png|    John W. Robinson|New York Stock Ex...|  3677542512|       Industrials|       Industrials|Rental & Leasing ...|Consulting & Outs...|\n",
      "|  AAOI|Applied Optoelect...|Applied Optoelect...|      Semiconductors|Applied Optoelect...|http://www.ao-inc...|AAOI.png|Chih-Hsiang Thomp...|NASDAQ Global Market|   352218215|        Technology|        Technology|      Semiconductors|                   \n",
      "|  AAON|           AAON Inc.|                AAON|  Building Materials|AAON Inc is a hea...| http://www.aaon.com|AAON.png|Norman H. Asbjornson|Nasdaq Global Select|  1961880263|   Basic Materials|   Basic Materials|  Building Materials|                   \n",
      "|   AAP|Advance Auto Part...|  Advance Auto Parts|Retail - Apparel ...|Advance Auto Part...|https://shop.adva...| AAP.png|     Thomas R. Greco|New York Stock Ex...| 11761401561| Consumer Cyclical| Consumer Cyclical|    Specialty Retail|Retail - Apparel ...|\n",
      "|  AAPL|          Apple Inc.|               Apple|   Computer Hardware|Apple Inc is desi...|http://www.apple.com|AAPL.png|     Timothy D. Cook|Nasdaq Global Select|807491700000|        Technology|        Technology|Consumer Electronics|  Computer Hardware\n",
      "|   AAT|American Assets T...|American Assets T...|               REITs|American Assets T...|http://www.americ...| AAT.png|         Ernest Rady|New York Stock Ex...|  2032912309|       Real Estate|       Real Estate|       REIT - Retail|              REITs\n",
      "|   AAU|Almaden Minerals ...|    Almaden Minerals|     Metals & Mining|Almaden Minerals ...|http://www.almade...|    null|     Morgan Poliquin|       NYSE American|    85303350|   Basic Materials|   Basic Materials|                Gold|    Metals & Mining\n",
      "|  AAWW|Atlas Air Worldwi...| Atlas Air Worldwide|Transportation & ...|Atlas Air Worldwi...|http://www.atlasa...|AAWW.png|    William J. Flynn|Nasdaq Global Select|  1395182774|       Industrials|       Industrials|Airports & Air Se...|Transportation & ...|\n",
      "|  AAXJ|iShares MSCI All ...|iShares MSCI All ...|                null|The investment se...|http://www.ishare...|AAXJ.png|                null|NASDAQ Global Market|  4541460000|              null|              null|                null|                   \n",
      "|  AAXN|Axon Enterprise Inc.|     Axon Enterprise| Aerospace & Defense|Axon Enterprise I...|https://www.axon.com|AAXN.png|    Patrick W. Smith|Nasdaq Global Select|  3111680592|       Industrials|       Industrials| Aerospace & Defense|                   \n",
      "|    AB|AllianceBernstein...|AllianceBernstein...|    Asset Management|AllianceBernstein...|http://www.allian...|  AB.png|      Seth Bernstein|New York Stock Ex...|  2944027239|Financial Services|Financial Services|    Asset Management|                   \n",
      "|   ABB|             ABB Ltd|                 ABB| Industrial Products|ABB Ltd is a powe...|  http://www.abb.com| ABB.png|  Ulrich Spiesshofer|New York Stock Ex...| 41399626029|       Industrials|       Industrials|Diversified Indus...|Industrial Products\n",
      "+------+--------------------+--------------------+--------------------+--------------------+--------------------+--------+--------------------+--------------------+------------+------------------+------------------+--------------------+--------------------+\n",
      "only showing top 20 rows\n",
      "\n"
     ]
    }
   ],
   "source": [
    "companies.show()"
   ]
  },
  {
   "cell_type": "code",
   "execution_count": 62,
   "metadata": {},
   "outputs": [
    {
     "name": "stdout",
     "output_type": "stream",
     "text": [
      "+--------------------+\n",
      "|           location\n",
      "+--------------------+\n",
      "|  Atlanta, GA 30301 |\n",
      "|                null|\n",
      "|                null|\n",
      "| has an open posi...|\n",
      "|                null|\n",
      "|                null|\n",
      "|                null|\n",
      "|                null|\n",
      "|                null|\n",
      "|                null|\n",
      "|                null|\n",
      "|                null|\n",
      "|                null|\n",
      "|                null|\n",
      "| or other quantit...|\n",
      "| Algorithms/Incor...|\n",
      "|                null|\n",
      "|                null|\n",
      "|                null|\n",
      "|                null|\n",
      "+--------------------+\n",
      "only showing top 20 rows\n",
      "\n"
     ]
    }
   ],
   "source": [
    "alldata.select('location\\r').show()"
   ]
  },
  {
   "cell_type": "code",
   "execution_count": 63,
   "metadata": {},
   "outputs": [],
   "source": [
    "alldata = alldata.withColumnRenamed('location\\r', 'location')"
   ]
  },
  {
   "cell_type": "code",
   "execution_count": 89,
   "metadata": {},
   "outputs": [],
   "source": [
    "companies.columns\n",
    "companies = companies.filter(companies.description_name.isNotNull())\n",
    "alldata = alldata.filter(alldata.description.isNotNull())"
   ]
  },
  {
   "cell_type": "code",
   "execution_count": 90,
   "metadata": {},
   "outputs": [
    {
     "data": {
      "text/plain": [
       "['ticker',\n",
       " 'company_name',\n",
       " 'short name',\n",
       " 'industry',\n",
       " 'description_name',\n",
       " 'website',\n",
       " 'logo',\n",
       " 'ceo',\n",
       " 'exchange',\n",
       " 'market cap',\n",
       " 'sector',\n",
       " 'tag 1',\n",
       " 'tag 2',\n",
       " 'tag 3\\r']"
      ]
     },
     "execution_count": 90,
     "metadata": {},
     "output_type": "execute_result"
    }
   ],
   "source": [
    "companies.columns"
   ]
  },
  {
   "cell_type": "code",
   "execution_count": 91,
   "metadata": {},
   "outputs": [],
   "source": [
    "#setting alias and do an inner join\n",
    "com = companies.alias('com')\n",
    "ald = alldata.alias('ald')\n",
    "innerjoin = com.join(ald, com.company_name == ald.company, 'inner')"
   ]
  },
  {
   "cell_type": "code",
   "execution_count": 92,
   "metadata": {},
   "outputs": [
    {
     "data": {
      "text/plain": [
       "['ticker',\n",
       " 'company_name',\n",
       " 'short name',\n",
       " 'industry',\n",
       " 'description_name',\n",
       " 'website',\n",
       " 'logo',\n",
       " 'ceo',\n",
       " 'exchange',\n",
       " 'market cap',\n",
       " 'sector',\n",
       " 'tag 1',\n",
       " 'tag 2',\n",
       " 'tag 3\\r',\n",
       " 'position',\n",
       " 'company',\n",
       " 'description',\n",
       " 'reviews',\n",
       " 'location']"
      ]
     },
     "execution_count": 92,
     "metadata": {},
     "output_type": "execute_result"
    }
   ],
   "source": [
    "innerjoin.columns"
   ]
  },
  {
   "cell_type": "code",
   "execution_count": 93,
   "metadata": {},
   "outputs": [
    {
     "name": "stdout",
     "output_type": "stream",
     "text": [
      "+--------------------+--------------------+\n",
      "|            location|             company|\n",
      "+--------------------+--------------------+\n",
      "|          Austin, TX|   Cubic Corporation|\n",
      "|          Austin, TX| The Hershey Company|\n",
      "|          Austin, TX| Abbott Laboratories|\n",
      "|          Austin, TX| Centene Corporation|\n",
      "|    Austin, TX 78746|           eBay Inc.|\n",
      "|         Boulder, CO|        Trimble Inc.|\n",
      "|    Boston, MA 02210|   Cabot Corporation|\n",
      "|    Boston, MA 02108| Celgene Corporation|\n",
      "|   Chicago, IL 60664|               AECOM|\n",
      "|         Chicago, IL|  Kemper Corporation|\n",
      "|         Chicago, IL|Discover Financia...|\n",
      "|   Chicago, IL 60664|               AECOM|\n",
      "|   Chicago, IL 60661|          TransUnion|\n",
      "|         Chicago, IL|       Wipro Limited|\n",
      "|         Chicago, IL| Synchrony Financial|\n",
      "|   Chicago, IL 60661|          TransUnion|\n",
      "|         Chicago, IL|Discover Financia...|\n",
      "|   Chicago, IL 60661|          TransUnion|\n",
      "|                null|Vanda Pharmaceuti...|\n",
      "|Washington, DC 20037|Vanda Pharmaceuti...|\n",
      "+--------------------+--------------------+\n",
      "only showing top 20 rows\n",
      "\n"
     ]
    }
   ],
   "source": [
    "#select the joined columns\n",
    "innerjoin.select('location', 'company').show()"
   ]
  },
  {
   "cell_type": "code",
   "execution_count": 152,
   "metadata": {},
   "outputs": [],
   "source": [
    "#function to generate N-gram\n",
    "def Ngm(datainput, n):\n",
    "    tokens = Tokenizer(inputCol='description', outputCol='tokens')\n",
    "    dfs = tokens.transform(datainput)\n",
    "    ngrm = NGram(n=n, inputCol='tokens', outputCol='ngram')\n",
    "    dfs = ngrm.transform(dfs)\n",
    "    return dfs"
   ]
  },
  {
   "cell_type": "code",
   "execution_count": 155,
   "metadata": {},
   "outputs": [],
   "source": [
    "ng1 = Ngm(innerjoin, 1)"
   ]
  },
  {
   "cell_type": "code",
   "execution_count": 154,
   "metadata": {},
   "outputs": [],
   "source": [
    "ng2 = Ngm(innerjoin,n=2)"
   ]
  },
  {
   "cell_type": "code",
   "execution_count": 156,
   "metadata": {},
   "outputs": [
    {
     "data": {
      "text/plain": [
       "['ticker',\n",
       " 'company_name',\n",
       " 'short name',\n",
       " 'industry',\n",
       " 'description_name',\n",
       " 'website',\n",
       " 'logo',\n",
       " 'ceo',\n",
       " 'exchange',\n",
       " 'market cap',\n",
       " 'sector',\n",
       " 'tag 1',\n",
       " 'tag 2',\n",
       " 'tag 3\\r',\n",
       " 'position',\n",
       " 'company',\n",
       " 'description',\n",
       " 'reviews',\n",
       " 'location',\n",
       " 'tokens',\n",
       " 'ngram']"
      ]
     },
     "execution_count": 156,
     "metadata": {},
     "output_type": "execute_result"
    }
   ],
   "source": [
    "ng1.columns"
   ]
  },
  {
   "cell_type": "code",
   "execution_count": 157,
   "metadata": {},
   "outputs": [
    {
     "data": {
      "text/plain": [
       "['ticker',\n",
       " 'company_name',\n",
       " 'short name',\n",
       " 'industry',\n",
       " 'description_name',\n",
       " 'website',\n",
       " 'logo',\n",
       " 'ceo',\n",
       " 'exchange',\n",
       " 'market cap',\n",
       " 'sector',\n",
       " 'tag 1',\n",
       " 'tag 2',\n",
       " 'tag 3\\r',\n",
       " 'position',\n",
       " 'company',\n",
       " 'description',\n",
       " 'reviews',\n",
       " 'location',\n",
       " 'tokens',\n",
       " 'ngram']"
      ]
     },
     "execution_count": 157,
     "metadata": {},
     "output_type": "execute_result"
    }
   ],
   "source": [
    "ng2.columns"
   ]
  },
  {
   "cell_type": "code",
   "execution_count": 158,
   "metadata": {},
   "outputs": [
    {
     "name": "stdout",
     "output_type": "stream",
     "text": [
      "+--------------------+\n",
      "|            location|\n",
      "+--------------------+\n",
      "|          Austin, TX|\n",
      "|          Austin, TX|\n",
      "|          Austin, TX|\n",
      "|          Austin, TX|\n",
      "|    Austin, TX 78746|\n",
      "|         Boulder, CO|\n",
      "|    Boston, MA 02210|\n",
      "|    Boston, MA 02108|\n",
      "|   Chicago, IL 60664|\n",
      "|         Chicago, IL|\n",
      "|         Chicago, IL|\n",
      "|   Chicago, IL 60664|\n",
      "|   Chicago, IL 60661|\n",
      "|         Chicago, IL|\n",
      "|         Chicago, IL|\n",
      "|   Chicago, IL 60661|\n",
      "|         Chicago, IL|\n",
      "|   Chicago, IL 60661|\n",
      "|                null|\n",
      "|Washington, DC 20037|\n",
      "+--------------------+\n",
      "only showing top 20 rows\n",
      "\n"
     ]
    }
   ],
   "source": [
    "ng1.select('location').show()"
   ]
  },
  {
   "cell_type": "code",
   "execution_count": 159,
   "metadata": {},
   "outputs": [
    {
     "name": "stdout",
     "output_type": "stream",
     "text": [
      "+--------------------+\n",
      "|            location|\n",
      "+--------------------+\n",
      "|          Austin, TX|\n",
      "|          Austin, TX|\n",
      "|          Austin, TX|\n",
      "|          Austin, TX|\n",
      "|    Austin, TX 78746|\n",
      "|         Boulder, CO|\n",
      "|    Boston, MA 02210|\n",
      "|    Boston, MA 02108|\n",
      "|   Chicago, IL 60664|\n",
      "|         Chicago, IL|\n",
      "|         Chicago, IL|\n",
      "|   Chicago, IL 60664|\n",
      "|   Chicago, IL 60661|\n",
      "|         Chicago, IL|\n",
      "|         Chicago, IL|\n",
      "|   Chicago, IL 60661|\n",
      "|         Chicago, IL|\n",
      "|   Chicago, IL 60661|\n",
      "|                null|\n",
      "|Washington, DC 20037|\n",
      "+--------------------+\n",
      "only showing top 20 rows\n",
      "\n"
     ]
    }
   ],
   "source": [
    "ng2.select('location').show()"
   ]
  },
  {
   "cell_type": "code",
   "execution_count": 163,
   "metadata": {},
   "outputs": [],
   "source": [
    "#split the location column and append with an alias called city and assign to a new dataframe\n",
    "newdf = ng1.select('industry', 'ngram', 'location', d.split(ng1['location'], ',')[0].alias('city'))"
   ]
  },
  {
   "cell_type": "code",
   "execution_count": 164,
   "metadata": {},
   "outputs": [],
   "source": [
    "newdf1 = ng2.select('industry', 'ngram', 'location', d.split(ng2['location'], ',')[0].alias('city'))"
   ]
  },
  {
   "cell_type": "code",
   "execution_count": 165,
   "metadata": {},
   "outputs": [
    {
     "name": "stdout",
     "output_type": "stream",
     "text": [
      "+--------------------+--------------------+--------------------+----------+\n",
      "|            industry|               ngram|            location|      city|\n",
      "+--------------------+--------------------+--------------------+----------+\n",
      "| Aerospace & Defense|[job, summary:, ,...|          Austin, TX|    Austin|\n",
      "|Consumer Packaged...|[job, title:, foo...|          Austin, TX|    Austin|\n",
      "|     Medical Devices|[at, abbott,, we'...|          Austin, TX|    Austin|\n",
      "|   Health Care Plans|[provide, vision,...|          Austin, TX|    Austin|\n",
      "|Retail - Apparel ...|[at, ebay,, you, ...|    Austin, TX 78746|    Austin|\n",
      "|   Computer Hardware|[data, scientist,...|         Boulder, CO|   Boulder|\n",
      "|           Chemicals|[position, summar...|    Boston, MA 02210|    Boston|\n",
      "|       Biotechnology|[other, locations...|    Boston, MA 02108|    Boston|\n",
      "|Engineering & Con...|[aecom, is, activ...|   Chicago, IL 60664|   Chicago|\n",
      "|           Insurance|[position, summar...|         Chicago, IL|   Chicago|\n",
      "|     Credit Services|[as, a, master, d...|         Chicago, IL|   Chicago|\n",
      "|Engineering & Con...|[aecom, is, seeki...|   Chicago, IL 60664|   Chicago|\n",
      "|   Business Services|[–, mohit, kapoor...|   Chicago, IL 60661|   Chicago|\n",
      "|Application Software|[he/she, will, le...|         Chicago, IL|   Chicago|\n",
      "|     Credit Services|[job, description...|         Chicago, IL|   Chicago|\n",
      "|   Business Services|[what, we’ll, bri...|   Chicago, IL 60661|   Chicago|\n",
      "|     Credit Services|[as, a, lead, dat...|         Chicago, IL|   Chicago|\n",
      "|   Business Services|[–, mohit, kapoor...|   Chicago, IL 60661|   Chicago|\n",
      "|       Biotechnology|[\"position, descr...|                null|      null|\n",
      "|       Biotechnology|[responsibilities...|Washington, DC 20037|Washington|\n",
      "+--------------------+--------------------+--------------------+----------+\n",
      "only showing top 20 rows\n",
      "\n"
     ]
    }
   ],
   "source": [
    "newdf.show()"
   ]
  },
  {
   "cell_type": "code",
   "execution_count": 166,
   "metadata": {},
   "outputs": [
    {
     "data": {
      "text/plain": [
       "DataFrame[industry: string, ngram: array<string>, location: string, city: string]"
      ]
     },
     "execution_count": 166,
     "metadata": {},
     "output_type": "execute_result"
    }
   ],
   "source": [
    "newdf.select('industry','ngram','location', 'city')"
   ]
  },
  {
   "cell_type": "code",
   "execution_count": 167,
   "metadata": {},
   "outputs": [],
   "source": [
    "#A function to create 2 spark DataFrames which has 3 columns\n",
    "def data_frames(inputframe, colinput):\n",
    "    qry = inputframe.select(colinput, d.explode('ngram').alias('ngram')).groupby(['ngram',colinput]).count()\n",
    "    qry = qry.withColumnRenamed('count', 'frequency')\n",
    "    qry.orderBy(qry.frequency.desc())\n",
    "    return qry"
   ]
  },
  {
   "cell_type": "code",
   "execution_count": 168,
   "metadata": {},
   "outputs": [],
   "source": [
    "#pass bigram and new spark dataframe with city column\n",
    "spd = data_frames(newdf, 'city')"
   ]
  },
  {
   "cell_type": "code",
   "execution_count": 169,
   "metadata": {},
   "outputs": [
    {
     "name": "stdout",
     "output_type": "stream",
     "text": [
      "+------------+-------+---------+\n",
      "|       ngram|   city|frequency|\n",
      "+------------+-------+---------+\n",
      "|integration,| Austin|        1|\n",
      "|       siri,| Austin|        1|\n",
      "|   excellent| Austin|        1|\n",
      "|    relevant| Austin|        6|\n",
      "|           –| Austin|        1|\n",
      "|         key|Boulder|        1|\n",
      "|         her|Boulder|        1|\n",
      "|      status| Boston|        2|\n",
      "|   establish|Chicago|        1|\n",
      "|       teams|Chicago|       12|\n",
      "|         (or|Chicago|        3|\n",
      "| skillsshare|Chicago|        1|\n",
      "|      401(k)|Chicago|        1|\n",
      "|      master|Chicago|        1|\n",
      "|   required:|Chicago|        2|\n",
      "|     systems|Chicago|        2|\n",
      "|     cutting|Chicago|        2|\n",
      "|  strategies|Chicago|        3|\n",
      "|        true|Chicago|        1|\n",
      "|    optimize|Chicago|        1|\n",
      "+------------+-------+---------+\n",
      "only showing top 20 rows\n",
      "\n"
     ]
    }
   ],
   "source": [
    "spd.show()"
   ]
  },
  {
   "cell_type": "code",
   "execution_count": 171,
   "metadata": {},
   "outputs": [],
   "source": [
    "#pass bigram and new spark dataframe with industry column\n",
    "spd2 = data_frames(newdf, 'industry')"
   ]
  },
  {
   "cell_type": "code",
   "execution_count": 173,
   "metadata": {},
   "outputs": [
    {
     "name": "stdout",
     "output_type": "stream",
     "text": [
      "+--------------------+--------------------+---------+\n",
      "|               ngram|            industry|frequency|\n",
      "+--------------------+--------------------+---------+\n",
      "|           barkthins|Consumer Packaged...|        1|\n",
      "|             creates|Consumer Packaged...|        1|\n",
      "|        formulation,|Consumer Packaged...|        1|\n",
      "|            payments|   Health Care Plans|        2|\n",
      "|           retention|   Health Care Plans|        1|\n",
      "|       interpersonal|   Health Care Plans|        1|\n",
      "|           business.|Retail - Apparel ...|        1|\n",
      "|          employment|Retail - Apparel ...|        3|\n",
      "|        development,|   Computer Hardware|        1|\n",
      "|                  at|   Computer Hardware|        1|\n",
      "|        agriculture,|   Computer Hardware|        1|\n",
      "|                some|Engineering & Con...|        4|\n",
      "|              signed|Engineering & Con...|        6|\n",
      "|implementationstrong|           Insurance|        1|\n",
      "|                 -in|           Insurance|        1|\n",
      "|              highly|     Credit Services|        3|\n",
      "|       additionally,|     Credit Services|        1|\n",
      "|          compliance|     Credit Services|        2|\n",
      "|               peers|     Credit Services|        2|\n",
      "|              enjoys|     Credit Services|        2|\n",
      "+--------------------+--------------------+---------+\n",
      "only showing top 20 rows\n",
      "\n"
     ]
    }
   ],
   "source": [
    "spd2.show()"
   ]
  },
  {
   "cell_type": "code",
   "execution_count": 175,
   "metadata": {},
   "outputs": [
    {
     "name": "stdout",
     "output_type": "stream",
     "text": [
      "+--------------------+-------+---------+\n",
      "|               ngram|   city|frequency|\n",
      "+--------------------+-------+---------+\n",
      "|  related challenges| Austin|        1|\n",
      "|     college degree,| Austin|        1|\n",
      "|   opportunities for| Austin|        1|\n",
      "|         skills used| Austin|        1|\n",
      "|      color, gender,| Austin|        1|\n",
      "|        life. today,| Austin|        1|\n",
      "|          study data| Austin|        1|\n",
      "| economics functions| Austin|        1|\n",
      "|        and content.| Austin|        1|\n",
      "|    proven technical| Austin|        1|\n",
      "|      versatile work| Austin|        1|\n",
      "|         sex, sexual| Austin|        1|\n",
      "|            taking a|Boulder|        1|\n",
      "|professional comm...|Boulder|        1|\n",
      "|        when needed.|Boulder|        1|\n",
      "|      and logistics.|Boulder|        1|\n",
      "|     and affirmative|Boulder|        1|\n",
      "|   protected factor.|Boulder|        1|\n",
      "|      development of| Boston|        2|\n",
      "|          key trends| Boston|        1|\n",
      "+--------------------+-------+---------+\n",
      "only showing top 20 rows\n",
      "\n"
     ]
    }
   ],
   "source": [
    "#pass unigram and new spark dataframe with city column\n",
    "spd3 = data_frames(newdf1, 'city')\n",
    "spd3.show()"
   ]
  },
  {
   "cell_type": "code",
   "execution_count": 176,
   "metadata": {},
   "outputs": [
    {
     "name": "stdout",
     "output_type": "stream",
     "text": [
      "+--------------------+--------------------+---------+\n",
      "|               ngram|            industry|frequency|\n",
      "+--------------------+--------------------+---------+\n",
      "|   between disparate| Aerospace & Defense|        1|\n",
      "|            in clear| Aerospace & Defense|        1|\n",
      "|analysis methodology| Aerospace & Defense|        1|\n",
      "|      manner through| Aerospace & Defense|        1|\n",
      "|          and around|Consumer Packaged...|        1|\n",
      "|     master’s degree|     Medical Devices|        2|\n",
      "|    understanding of|   Health Care Plans|        1|\n",
      "|         will ensure|   Health Care Plans|        1|\n",
      "|            within a|   Health Care Plans|        2|\n",
      "|    complex analyses|   Health Care Plans|        1|\n",
      "|machines, supervi...|   Health Care Plans|        1|\n",
      "|theoretical knowl...|   Health Care Plans|        1|\n",
      "|           this role|Retail - Apparel ...|        3|\n",
      "|deployment infras...|Retail - Apparel ...|        1|\n",
      "|       aggregate and|Retail - Apparel ...|        1|\n",
      "|   computing systems|Retail - Apparel ...|        1|\n",
      "|wsdl/soap interfa...|Retail - Apparel ...|        1|\n",
      "|             area of|Retail - Apparel ...|        1|\n",
      "|         in boulder,|   Computer Hardware|        1|\n",
      "|          a customer|   Computer Hardware|        1|\n",
      "+--------------------+--------------------+---------+\n",
      "only showing top 20 rows\n",
      "\n"
     ]
    }
   ],
   "source": [
    "#pass unigram and new spark dataframe with industry column\n",
    "spd3 = data_frames(newdf1, 'industry')\n",
    "spd3.show()"
   ]
  },
  {
   "cell_type": "code",
   "execution_count": null,
   "metadata": {},
   "outputs": [],
   "source": []
  }
 ],
 "metadata": {
  "kernelspec": {
   "display_name": "Python 3",
   "language": "python",
   "name": "python3"
  },
  "language_info": {
   "codemirror_mode": {
    "name": "ipython",
    "version": 3
   },
   "file_extension": ".py",
   "mimetype": "text/x-python",
   "name": "python",
   "nbconvert_exporter": "python",
   "pygments_lexer": "ipython3",
   "version": "3.7.4"
  }
 },
 "nbformat": 4,
 "nbformat_minor": 4
}
